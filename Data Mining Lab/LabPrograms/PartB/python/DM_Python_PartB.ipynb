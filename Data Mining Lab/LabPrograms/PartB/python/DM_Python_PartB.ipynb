{
 "cells": [
  {
   "cell_type": "markdown",
   "id": "neural-logistics",
   "metadata": {},
   "source": []
  },
  {
   "cell_type": "code",
   "execution_count": 1,
   "id": "primary-former",
   "metadata": {},
   "outputs": [],
   "source": [
    "import pandas as pd\n",
    "import numpy as np\n",
    "import seaborn as sns\n",
    "import sklearn\n",
    "import matplotlib.pyplot as plt\n",
    "%matplotlib inline\n",
    "%config IPCompleter.greedy=True"
   ]
  },
  {
   "cell_type": "code",
   "execution_count": 2,
   "id": "static-liberal",
   "metadata": {},
   "outputs": [],
   "source": [
    "data = pd.read_csv('CustomerData.csv')"
   ]
  },
  {
   "cell_type": "code",
   "execution_count": 3,
   "id": "disturbed-sound",
   "metadata": {},
   "outputs": [
    {
     "name": "stdout",
     "output_type": "stream",
     "text": [
      "<class 'pandas.core.frame.DataFrame'>\n",
      "RangeIndex: 60 entries, 0 to 59\n",
      "Data columns (total 10 columns):\n",
      " #   Column                     Non-Null Count  Dtype  \n",
      "---  ------                     --------------  -----  \n",
      " 0   customer_id                60 non-null     int64  \n",
      " 1   name                       60 non-null     object \n",
      " 2   gender                     50 non-null     object \n",
      " 3   age                        55 non-null     float64\n",
      " 4   annual income (lakhs)      52 non-null     float64\n",
      " 5   spending score             60 non-null     int64  \n",
      " 6   items purchased (monthly)  60 non-null     int64  \n",
      " 7   country                    60 non-null     object \n",
      " 8   category                   47 non-null     object \n",
      " 9   purchase type              60 non-null     object \n",
      "dtypes: float64(2), int64(3), object(5)\n",
      "memory usage: 4.8+ KB\n"
     ]
    }
   ],
   "source": [
    "data.info()"
   ]
  },
  {
   "cell_type": "code",
   "execution_count": 4,
   "id": "auburn-privilege",
   "metadata": {},
   "outputs": [
    {
     "data": {
      "text/html": [
       "<div>\n",
       "<style scoped>\n",
       "    .dataframe tbody tr th:only-of-type {\n",
       "        vertical-align: middle;\n",
       "    }\n",
       "\n",
       "    .dataframe tbody tr th {\n",
       "        vertical-align: top;\n",
       "    }\n",
       "\n",
       "    .dataframe thead th {\n",
       "        text-align: right;\n",
       "    }\n",
       "</style>\n",
       "<table border=\"1\" class=\"dataframe\">\n",
       "  <thead>\n",
       "    <tr style=\"text-align: right;\">\n",
       "      <th></th>\n",
       "      <th>customer_id</th>\n",
       "      <th>name</th>\n",
       "      <th>gender</th>\n",
       "      <th>age</th>\n",
       "      <th>annual income (lakhs)</th>\n",
       "      <th>spending score</th>\n",
       "      <th>items purchased (monthly)</th>\n",
       "      <th>country</th>\n",
       "      <th>category</th>\n",
       "      <th>purchase type</th>\n",
       "    </tr>\n",
       "  </thead>\n",
       "  <tbody>\n",
       "    <tr>\n",
       "      <th>0</th>\n",
       "      <td>1</td>\n",
       "      <td>Edith</td>\n",
       "      <td>Female</td>\n",
       "      <td>NaN</td>\n",
       "      <td>40.9</td>\n",
       "      <td>27</td>\n",
       "      <td>62</td>\n",
       "      <td>Iran</td>\n",
       "      <td>Baby</td>\n",
       "      <td>offline</td>\n",
       "    </tr>\n",
       "    <tr>\n",
       "      <th>1</th>\n",
       "      <td>2</td>\n",
       "      <td>Sinclair</td>\n",
       "      <td>Male</td>\n",
       "      <td>53.0</td>\n",
       "      <td>NaN</td>\n",
       "      <td>42</td>\n",
       "      <td>47</td>\n",
       "      <td>China</td>\n",
       "      <td>NaN</td>\n",
       "      <td>online</td>\n",
       "    </tr>\n",
       "    <tr>\n",
       "      <th>2</th>\n",
       "      <td>3</td>\n",
       "      <td>Enoch</td>\n",
       "      <td>Male</td>\n",
       "      <td>22.0</td>\n",
       "      <td>NaN</td>\n",
       "      <td>70</td>\n",
       "      <td>26</td>\n",
       "      <td>China</td>\n",
       "      <td>Computers</td>\n",
       "      <td>offline</td>\n",
       "    </tr>\n",
       "    <tr>\n",
       "      <th>3</th>\n",
       "      <td>4</td>\n",
       "      <td>Lorenzo</td>\n",
       "      <td>Male</td>\n",
       "      <td>9.0</td>\n",
       "      <td>18.5</td>\n",
       "      <td>68</td>\n",
       "      <td>80</td>\n",
       "      <td>Russia</td>\n",
       "      <td>NaN</td>\n",
       "      <td>online</td>\n",
       "    </tr>\n",
       "    <tr>\n",
       "      <th>4</th>\n",
       "      <td>5</td>\n",
       "      <td>Damian</td>\n",
       "      <td>Male</td>\n",
       "      <td>55.0</td>\n",
       "      <td>18.4</td>\n",
       "      <td>69</td>\n",
       "      <td>89</td>\n",
       "      <td>Philippines</td>\n",
       "      <td>Jewelery</td>\n",
       "      <td>offline</td>\n",
       "    </tr>\n",
       "  </tbody>\n",
       "</table>\n",
       "</div>"
      ],
      "text/plain": [
       "   customer_id      name  gender   age  annual income (lakhs)  spending score  \\\n",
       "0            1     Edith  Female   NaN                   40.9              27   \n",
       "1            2  Sinclair    Male  53.0                    NaN              42   \n",
       "2            3     Enoch    Male  22.0                    NaN              70   \n",
       "3            4   Lorenzo    Male   9.0                   18.5              68   \n",
       "4            5    Damian    Male  55.0                   18.4              69   \n",
       "\n",
       "   items purchased (monthly)      country   category purchase type   \n",
       "0                         62         Iran       Baby        offline  \n",
       "1                         47        China        NaN         online  \n",
       "2                         26        China  Computers        offline  \n",
       "3                         80       Russia        NaN         online  \n",
       "4                         89  Philippines   Jewelery        offline  "
      ]
     },
     "execution_count": 4,
     "metadata": {},
     "output_type": "execute_result"
    }
   ],
   "source": [
    "data.head()"
   ]
  },
  {
   "cell_type": "code",
   "execution_count": 5,
   "id": "boolean-funds",
   "metadata": {},
   "outputs": [
    {
     "data": {
      "text/html": [
       "<div>\n",
       "<style scoped>\n",
       "    .dataframe tbody tr th:only-of-type {\n",
       "        vertical-align: middle;\n",
       "    }\n",
       "\n",
       "    .dataframe tbody tr th {\n",
       "        vertical-align: top;\n",
       "    }\n",
       "\n",
       "    .dataframe thead th {\n",
       "        text-align: right;\n",
       "    }\n",
       "</style>\n",
       "<table border=\"1\" class=\"dataframe\">\n",
       "  <thead>\n",
       "    <tr style=\"text-align: right;\">\n",
       "      <th></th>\n",
       "      <th>customer_id</th>\n",
       "      <th>name</th>\n",
       "      <th>gender</th>\n",
       "      <th>age</th>\n",
       "      <th>annual income (lakhs)</th>\n",
       "      <th>spending score</th>\n",
       "      <th>items purchased (monthly)</th>\n",
       "      <th>country</th>\n",
       "      <th>category</th>\n",
       "      <th>purchase type</th>\n",
       "    </tr>\n",
       "  </thead>\n",
       "  <tbody>\n",
       "    <tr>\n",
       "      <th>55</th>\n",
       "      <td>56</td>\n",
       "      <td>Annamarie</td>\n",
       "      <td>NaN</td>\n",
       "      <td>36.0</td>\n",
       "      <td>42.3</td>\n",
       "      <td>54</td>\n",
       "      <td>55</td>\n",
       "      <td>Poland</td>\n",
       "      <td>Beauty</td>\n",
       "      <td>offline</td>\n",
       "    </tr>\n",
       "    <tr>\n",
       "      <th>56</th>\n",
       "      <td>57</td>\n",
       "      <td>Bari</td>\n",
       "      <td>Female</td>\n",
       "      <td>22.0</td>\n",
       "      <td>33.5</td>\n",
       "      <td>36</td>\n",
       "      <td>4</td>\n",
       "      <td>Ukraine</td>\n",
       "      <td>Movies</td>\n",
       "      <td>offline</td>\n",
       "    </tr>\n",
       "    <tr>\n",
       "      <th>57</th>\n",
       "      <td>58</td>\n",
       "      <td>Hersch</td>\n",
       "      <td>Male</td>\n",
       "      <td>0.0</td>\n",
       "      <td>57.2</td>\n",
       "      <td>77</td>\n",
       "      <td>58</td>\n",
       "      <td>Chile</td>\n",
       "      <td>Electronics</td>\n",
       "      <td>offline</td>\n",
       "    </tr>\n",
       "    <tr>\n",
       "      <th>58</th>\n",
       "      <td>59</td>\n",
       "      <td>Brocky</td>\n",
       "      <td>Male</td>\n",
       "      <td>NaN</td>\n",
       "      <td>17.3</td>\n",
       "      <td>34</td>\n",
       "      <td>34</td>\n",
       "      <td>China</td>\n",
       "      <td>NaN</td>\n",
       "      <td>online</td>\n",
       "    </tr>\n",
       "    <tr>\n",
       "      <th>59</th>\n",
       "      <td>60</td>\n",
       "      <td>Erna</td>\n",
       "      <td>Female</td>\n",
       "      <td>56.0</td>\n",
       "      <td>16.0</td>\n",
       "      <td>44</td>\n",
       "      <td>12</td>\n",
       "      <td>France</td>\n",
       "      <td>Beauty</td>\n",
       "      <td>offline</td>\n",
       "    </tr>\n",
       "  </tbody>\n",
       "</table>\n",
       "</div>"
      ],
      "text/plain": [
       "    customer_id       name  gender   age  annual income (lakhs)  \\\n",
       "55           56  Annamarie     NaN  36.0                   42.3   \n",
       "56           57       Bari  Female  22.0                   33.5   \n",
       "57           58     Hersch    Male   0.0                   57.2   \n",
       "58           59     Brocky    Male   NaN                   17.3   \n",
       "59           60       Erna  Female  56.0                   16.0   \n",
       "\n",
       "    spending score  items purchased (monthly)  country     category  \\\n",
       "55              54                         55   Poland       Beauty   \n",
       "56              36                          4  Ukraine       Movies   \n",
       "57              77                         58    Chile  Electronics   \n",
       "58              34                         34    China          NaN   \n",
       "59              44                         12   France       Beauty   \n",
       "\n",
       "   purchase type   \n",
       "55        offline  \n",
       "56        offline  \n",
       "57        offline  \n",
       "58         online  \n",
       "59        offline  "
      ]
     },
     "execution_count": 5,
     "metadata": {},
     "output_type": "execute_result"
    }
   ],
   "source": [
    "data.tail()"
   ]
  },
  {
   "cell_type": "code",
   "execution_count": 6,
   "id": "surrounded-badge",
   "metadata": {},
   "outputs": [
    {
     "data": {
      "text/html": [
       "<div>\n",
       "<style scoped>\n",
       "    .dataframe tbody tr th:only-of-type {\n",
       "        vertical-align: middle;\n",
       "    }\n",
       "\n",
       "    .dataframe tbody tr th {\n",
       "        vertical-align: top;\n",
       "    }\n",
       "\n",
       "    .dataframe thead th {\n",
       "        text-align: right;\n",
       "    }\n",
       "</style>\n",
       "<table border=\"1\" class=\"dataframe\">\n",
       "  <thead>\n",
       "    <tr style=\"text-align: right;\">\n",
       "      <th></th>\n",
       "      <th>customer_id</th>\n",
       "      <th>age</th>\n",
       "      <th>annual income (lakhs)</th>\n",
       "      <th>spending score</th>\n",
       "      <th>items purchased (monthly)</th>\n",
       "    </tr>\n",
       "  </thead>\n",
       "  <tbody>\n",
       "    <tr>\n",
       "      <th>count</th>\n",
       "      <td>60.000000</td>\n",
       "      <td>55.000000</td>\n",
       "      <td>52.000000</td>\n",
       "      <td>60.000000</td>\n",
       "      <td>60.000000</td>\n",
       "    </tr>\n",
       "    <tr>\n",
       "      <th>mean</th>\n",
       "      <td>30.500000</td>\n",
       "      <td>29.945455</td>\n",
       "      <td>35.578846</td>\n",
       "      <td>46.016667</td>\n",
       "      <td>51.333333</td>\n",
       "    </tr>\n",
       "    <tr>\n",
       "      <th>std</th>\n",
       "      <td>17.464249</td>\n",
       "      <td>18.669066</td>\n",
       "      <td>14.654964</td>\n",
       "      <td>26.076479</td>\n",
       "      <td>30.628815</td>\n",
       "    </tr>\n",
       "    <tr>\n",
       "      <th>min</th>\n",
       "      <td>1.000000</td>\n",
       "      <td>0.000000</td>\n",
       "      <td>11.200000</td>\n",
       "      <td>2.000000</td>\n",
       "      <td>1.000000</td>\n",
       "    </tr>\n",
       "    <tr>\n",
       "      <th>25%</th>\n",
       "      <td>15.750000</td>\n",
       "      <td>15.000000</td>\n",
       "      <td>22.225000</td>\n",
       "      <td>27.000000</td>\n",
       "      <td>25.750000</td>\n",
       "    </tr>\n",
       "    <tr>\n",
       "      <th>50%</th>\n",
       "      <td>30.500000</td>\n",
       "      <td>31.000000</td>\n",
       "      <td>35.150000</td>\n",
       "      <td>43.500000</td>\n",
       "      <td>57.000000</td>\n",
       "    </tr>\n",
       "    <tr>\n",
       "      <th>75%</th>\n",
       "      <td>45.250000</td>\n",
       "      <td>46.000000</td>\n",
       "      <td>50.325000</td>\n",
       "      <td>68.250000</td>\n",
       "      <td>75.250000</td>\n",
       "    </tr>\n",
       "    <tr>\n",
       "      <th>max</th>\n",
       "      <td>60.000000</td>\n",
       "      <td>59.000000</td>\n",
       "      <td>60.000000</td>\n",
       "      <td>100.000000</td>\n",
       "      <td>100.000000</td>\n",
       "    </tr>\n",
       "  </tbody>\n",
       "</table>\n",
       "</div>"
      ],
      "text/plain": [
       "       customer_id        age  annual income (lakhs)  spending score  \\\n",
       "count    60.000000  55.000000              52.000000       60.000000   \n",
       "mean     30.500000  29.945455              35.578846       46.016667   \n",
       "std      17.464249  18.669066              14.654964       26.076479   \n",
       "min       1.000000   0.000000              11.200000        2.000000   \n",
       "25%      15.750000  15.000000              22.225000       27.000000   \n",
       "50%      30.500000  31.000000              35.150000       43.500000   \n",
       "75%      45.250000  46.000000              50.325000       68.250000   \n",
       "max      60.000000  59.000000              60.000000      100.000000   \n",
       "\n",
       "       items purchased (monthly)  \n",
       "count                  60.000000  \n",
       "mean                   51.333333  \n",
       "std                    30.628815  \n",
       "min                     1.000000  \n",
       "25%                    25.750000  \n",
       "50%                    57.000000  \n",
       "75%                    75.250000  \n",
       "max                   100.000000  "
      ]
     },
     "execution_count": 6,
     "metadata": {},
     "output_type": "execute_result"
    }
   ],
   "source": [
    "data.describe()"
   ]
  },
  {
   "cell_type": "code",
   "execution_count": 7,
   "id": "educated-terrain",
   "metadata": {},
   "outputs": [
    {
     "data": {
      "text/plain": [
       "customer_id                   0\n",
       "name                          0\n",
       "gender                       10\n",
       "age                           5\n",
       "annual income (lakhs)         8\n",
       "spending score                0\n",
       "items purchased (monthly)     0\n",
       "country                       0\n",
       "category                     13\n",
       "purchase type                 0\n",
       "dtype: int64"
      ]
     },
     "execution_count": 7,
     "metadata": {},
     "output_type": "execute_result"
    }
   ],
   "source": [
    "data.isna().sum()\n"
   ]
  },
  {
   "cell_type": "code",
   "execution_count": 8,
   "id": "amazing-draft",
   "metadata": {},
   "outputs": [],
   "source": [
    "data['gender'].fillna(data.gender.mode()[0],inplace=True)\n",
    "data['category'].fillna(data.category.mode()[0],inplace=True)"
   ]
  },
  {
   "cell_type": "code",
   "execution_count": 9,
   "id": "diagnostic-disease",
   "metadata": {},
   "outputs": [],
   "source": [
    "data.fillna(data.mean(),inplace=True)"
   ]
  },
  {
   "cell_type": "code",
   "execution_count": 10,
   "id": "outside-genesis",
   "metadata": {},
   "outputs": [
    {
     "data": {
      "text/plain": [
       "customer_id                  0\n",
       "name                         0\n",
       "gender                       0\n",
       "age                          0\n",
       "annual income (lakhs)        0\n",
       "spending score               0\n",
       "items purchased (monthly)    0\n",
       "country                      0\n",
       "category                     0\n",
       "purchase type                0\n",
       "dtype: int64"
      ]
     },
     "execution_count": 10,
     "metadata": {},
     "output_type": "execute_result"
    }
   ],
   "source": [
    "data.isna().sum()"
   ]
  },
  {
   "cell_type": "code",
   "execution_count": 11,
   "id": "operational-syndrome",
   "metadata": {},
   "outputs": [],
   "source": [
    "data['category'].fillna(data.category.mode()[0],inplace=True)"
   ]
  },
  {
   "cell_type": "code",
   "execution_count": 12,
   "id": "simplified-craft",
   "metadata": {},
   "outputs": [
    {
     "data": {
      "text/plain": [
       "customer_id                  0\n",
       "name                         0\n",
       "gender                       0\n",
       "age                          0\n",
       "annual income (lakhs)        0\n",
       "spending score               0\n",
       "items purchased (monthly)    0\n",
       "country                      0\n",
       "category                     0\n",
       "purchase type                0\n",
       "dtype: int64"
      ]
     },
     "execution_count": 12,
     "metadata": {},
     "output_type": "execute_result"
    }
   ],
   "source": [
    "data.isna().sum()"
   ]
  },
  {
   "cell_type": "code",
   "execution_count": 13,
   "id": "aging-mississippi",
   "metadata": {},
   "outputs": [],
   "source": [
    "data.dropna(axis=0,inplace=True)"
   ]
  },
  {
   "cell_type": "code",
   "execution_count": 14,
   "id": "furnished-jenny",
   "metadata": {},
   "outputs": [
    {
     "data": {
      "text/html": [
       "<div>\n",
       "<style scoped>\n",
       "    .dataframe tbody tr th:only-of-type {\n",
       "        vertical-align: middle;\n",
       "    }\n",
       "\n",
       "    .dataframe tbody tr th {\n",
       "        vertical-align: top;\n",
       "    }\n",
       "\n",
       "    .dataframe thead th {\n",
       "        text-align: right;\n",
       "    }\n",
       "</style>\n",
       "<table border=\"1\" class=\"dataframe\">\n",
       "  <thead>\n",
       "    <tr style=\"text-align: right;\">\n",
       "      <th></th>\n",
       "      <th>customer_id</th>\n",
       "      <th>name</th>\n",
       "      <th>gender</th>\n",
       "      <th>age</th>\n",
       "      <th>annual income (lakhs)</th>\n",
       "      <th>spending score</th>\n",
       "      <th>items purchased (monthly)</th>\n",
       "      <th>country</th>\n",
       "      <th>category</th>\n",
       "      <th>purchase type</th>\n",
       "    </tr>\n",
       "  </thead>\n",
       "  <tbody>\n",
       "    <tr>\n",
       "      <th>0</th>\n",
       "      <td>1</td>\n",
       "      <td>Edith</td>\n",
       "      <td>Female</td>\n",
       "      <td>29.945455</td>\n",
       "      <td>40.900000</td>\n",
       "      <td>27</td>\n",
       "      <td>62</td>\n",
       "      <td>Iran</td>\n",
       "      <td>Baby</td>\n",
       "      <td>offline</td>\n",
       "    </tr>\n",
       "    <tr>\n",
       "      <th>1</th>\n",
       "      <td>2</td>\n",
       "      <td>Sinclair</td>\n",
       "      <td>Male</td>\n",
       "      <td>53.000000</td>\n",
       "      <td>35.578846</td>\n",
       "      <td>42</td>\n",
       "      <td>47</td>\n",
       "      <td>China</td>\n",
       "      <td>Beauty</td>\n",
       "      <td>online</td>\n",
       "    </tr>\n",
       "    <tr>\n",
       "      <th>2</th>\n",
       "      <td>3</td>\n",
       "      <td>Enoch</td>\n",
       "      <td>Male</td>\n",
       "      <td>22.000000</td>\n",
       "      <td>35.578846</td>\n",
       "      <td>70</td>\n",
       "      <td>26</td>\n",
       "      <td>China</td>\n",
       "      <td>Computers</td>\n",
       "      <td>offline</td>\n",
       "    </tr>\n",
       "    <tr>\n",
       "      <th>3</th>\n",
       "      <td>4</td>\n",
       "      <td>Lorenzo</td>\n",
       "      <td>Male</td>\n",
       "      <td>9.000000</td>\n",
       "      <td>18.500000</td>\n",
       "      <td>68</td>\n",
       "      <td>80</td>\n",
       "      <td>Russia</td>\n",
       "      <td>Beauty</td>\n",
       "      <td>online</td>\n",
       "    </tr>\n",
       "    <tr>\n",
       "      <th>4</th>\n",
       "      <td>5</td>\n",
       "      <td>Damian</td>\n",
       "      <td>Male</td>\n",
       "      <td>55.000000</td>\n",
       "      <td>18.400000</td>\n",
       "      <td>69</td>\n",
       "      <td>89</td>\n",
       "      <td>Philippines</td>\n",
       "      <td>Jewelery</td>\n",
       "      <td>offline</td>\n",
       "    </tr>\n",
       "  </tbody>\n",
       "</table>\n",
       "</div>"
      ],
      "text/plain": [
       "   customer_id      name  gender        age  annual income (lakhs)  \\\n",
       "0            1     Edith  Female  29.945455              40.900000   \n",
       "1            2  Sinclair    Male  53.000000              35.578846   \n",
       "2            3     Enoch    Male  22.000000              35.578846   \n",
       "3            4   Lorenzo    Male   9.000000              18.500000   \n",
       "4            5    Damian    Male  55.000000              18.400000   \n",
       "\n",
       "   spending score  items purchased (monthly)      country   category  \\\n",
       "0              27                         62         Iran       Baby   \n",
       "1              42                         47        China     Beauty   \n",
       "2              70                         26        China  Computers   \n",
       "3              68                         80       Russia     Beauty   \n",
       "4              69                         89  Philippines   Jewelery   \n",
       "\n",
       "  purchase type   \n",
       "0        offline  \n",
       "1         online  \n",
       "2        offline  \n",
       "3         online  \n",
       "4        offline  "
      ]
     },
     "execution_count": 14,
     "metadata": {},
     "output_type": "execute_result"
    }
   ],
   "source": [
    "data.head()"
   ]
  },
  {
   "cell_type": "code",
   "execution_count": 15,
   "id": "opening-richards",
   "metadata": {},
   "outputs": [
    {
     "data": {
      "text/html": [
       "<div>\n",
       "<style scoped>\n",
       "    .dataframe tbody tr th:only-of-type {\n",
       "        vertical-align: middle;\n",
       "    }\n",
       "\n",
       "    .dataframe tbody tr th {\n",
       "        vertical-align: top;\n",
       "    }\n",
       "\n",
       "    .dataframe thead th {\n",
       "        text-align: right;\n",
       "    }\n",
       "</style>\n",
       "<table border=\"1\" class=\"dataframe\">\n",
       "  <thead>\n",
       "    <tr style=\"text-align: right;\">\n",
       "      <th></th>\n",
       "      <th>customer_id</th>\n",
       "      <th>name</th>\n",
       "      <th>gender</th>\n",
       "      <th>age</th>\n",
       "      <th>annual income (lakhs)</th>\n",
       "      <th>spending score</th>\n",
       "      <th>items purchased (monthly)</th>\n",
       "      <th>country</th>\n",
       "      <th>category</th>\n",
       "      <th>purchase type</th>\n",
       "    </tr>\n",
       "  </thead>\n",
       "  <tbody>\n",
       "    <tr>\n",
       "      <th>55</th>\n",
       "      <td>56</td>\n",
       "      <td>Annamarie</td>\n",
       "      <td>Male</td>\n",
       "      <td>36.000000</td>\n",
       "      <td>42.3</td>\n",
       "      <td>54</td>\n",
       "      <td>55</td>\n",
       "      <td>Poland</td>\n",
       "      <td>Beauty</td>\n",
       "      <td>offline</td>\n",
       "    </tr>\n",
       "    <tr>\n",
       "      <th>56</th>\n",
       "      <td>57</td>\n",
       "      <td>Bari</td>\n",
       "      <td>Female</td>\n",
       "      <td>22.000000</td>\n",
       "      <td>33.5</td>\n",
       "      <td>36</td>\n",
       "      <td>4</td>\n",
       "      <td>Ukraine</td>\n",
       "      <td>Movies</td>\n",
       "      <td>offline</td>\n",
       "    </tr>\n",
       "    <tr>\n",
       "      <th>57</th>\n",
       "      <td>58</td>\n",
       "      <td>Hersch</td>\n",
       "      <td>Male</td>\n",
       "      <td>0.000000</td>\n",
       "      <td>57.2</td>\n",
       "      <td>77</td>\n",
       "      <td>58</td>\n",
       "      <td>Chile</td>\n",
       "      <td>Electronics</td>\n",
       "      <td>offline</td>\n",
       "    </tr>\n",
       "    <tr>\n",
       "      <th>58</th>\n",
       "      <td>59</td>\n",
       "      <td>Brocky</td>\n",
       "      <td>Male</td>\n",
       "      <td>29.945455</td>\n",
       "      <td>17.3</td>\n",
       "      <td>34</td>\n",
       "      <td>34</td>\n",
       "      <td>China</td>\n",
       "      <td>Beauty</td>\n",
       "      <td>online</td>\n",
       "    </tr>\n",
       "    <tr>\n",
       "      <th>59</th>\n",
       "      <td>60</td>\n",
       "      <td>Erna</td>\n",
       "      <td>Female</td>\n",
       "      <td>56.000000</td>\n",
       "      <td>16.0</td>\n",
       "      <td>44</td>\n",
       "      <td>12</td>\n",
       "      <td>France</td>\n",
       "      <td>Beauty</td>\n",
       "      <td>offline</td>\n",
       "    </tr>\n",
       "  </tbody>\n",
       "</table>\n",
       "</div>"
      ],
      "text/plain": [
       "    customer_id       name  gender        age  annual income (lakhs)  \\\n",
       "55           56  Annamarie    Male  36.000000                   42.3   \n",
       "56           57       Bari  Female  22.000000                   33.5   \n",
       "57           58     Hersch    Male   0.000000                   57.2   \n",
       "58           59     Brocky    Male  29.945455                   17.3   \n",
       "59           60       Erna  Female  56.000000                   16.0   \n",
       "\n",
       "    spending score  items purchased (monthly)  country     category  \\\n",
       "55              54                         55   Poland       Beauty   \n",
       "56              36                          4  Ukraine       Movies   \n",
       "57              77                         58    Chile  Electronics   \n",
       "58              34                         34    China       Beauty   \n",
       "59              44                         12   France       Beauty   \n",
       "\n",
       "   purchase type   \n",
       "55        offline  \n",
       "56        offline  \n",
       "57        offline  \n",
       "58         online  \n",
       "59        offline  "
      ]
     },
     "execution_count": 15,
     "metadata": {},
     "output_type": "execute_result"
    }
   ],
   "source": [
    "data.tail()"
   ]
  },
  {
   "cell_type": "code",
   "execution_count": 17,
   "id": "analyzed-sessions",
   "metadata": {},
   "outputs": [
    {
     "data": {
      "text/html": [
       "<div>\n",
       "<style scoped>\n",
       "    .dataframe tbody tr th:only-of-type {\n",
       "        vertical-align: middle;\n",
       "    }\n",
       "\n",
       "    .dataframe tbody tr th {\n",
       "        vertical-align: top;\n",
       "    }\n",
       "\n",
       "    .dataframe thead th {\n",
       "        text-align: right;\n",
       "    }\n",
       "</style>\n",
       "<table border=\"1\" class=\"dataframe\">\n",
       "  <thead>\n",
       "    <tr style=\"text-align: right;\">\n",
       "      <th></th>\n",
       "      <th>customer_id</th>\n",
       "      <th>name</th>\n",
       "      <th>gender</th>\n",
       "      <th>age</th>\n",
       "      <th>annual income (lakhs)</th>\n",
       "      <th>spending score</th>\n",
       "      <th>items purchased (monthly)</th>\n",
       "      <th>country</th>\n",
       "      <th>category</th>\n",
       "      <th>purchase type</th>\n",
       "    </tr>\n",
       "  </thead>\n",
       "  <tbody>\n",
       "    <tr>\n",
       "      <th>0</th>\n",
       "      <td>1</td>\n",
       "      <td>Edith</td>\n",
       "      <td>0</td>\n",
       "      <td>29.945455</td>\n",
       "      <td>40.900000</td>\n",
       "      <td>27</td>\n",
       "      <td>62</td>\n",
       "      <td>7</td>\n",
       "      <td>1</td>\n",
       "      <td>0</td>\n",
       "    </tr>\n",
       "    <tr>\n",
       "      <th>1</th>\n",
       "      <td>2</td>\n",
       "      <td>Sinclair</td>\n",
       "      <td>1</td>\n",
       "      <td>53.000000</td>\n",
       "      <td>35.578846</td>\n",
       "      <td>42</td>\n",
       "      <td>47</td>\n",
       "      <td>2</td>\n",
       "      <td>2</td>\n",
       "      <td>1</td>\n",
       "    </tr>\n",
       "    <tr>\n",
       "      <th>2</th>\n",
       "      <td>3</td>\n",
       "      <td>Enoch</td>\n",
       "      <td>1</td>\n",
       "      <td>22.000000</td>\n",
       "      <td>35.578846</td>\n",
       "      <td>70</td>\n",
       "      <td>26</td>\n",
       "      <td>2</td>\n",
       "      <td>5</td>\n",
       "      <td>0</td>\n",
       "    </tr>\n",
       "    <tr>\n",
       "      <th>3</th>\n",
       "      <td>4</td>\n",
       "      <td>Lorenzo</td>\n",
       "      <td>1</td>\n",
       "      <td>9.000000</td>\n",
       "      <td>18.500000</td>\n",
       "      <td>68</td>\n",
       "      <td>80</td>\n",
       "      <td>16</td>\n",
       "      <td>2</td>\n",
       "      <td>1</td>\n",
       "    </tr>\n",
       "    <tr>\n",
       "      <th>4</th>\n",
       "      <td>5</td>\n",
       "      <td>Damian</td>\n",
       "      <td>1</td>\n",
       "      <td>55.000000</td>\n",
       "      <td>18.400000</td>\n",
       "      <td>69</td>\n",
       "      <td>89</td>\n",
       "      <td>12</td>\n",
       "      <td>12</td>\n",
       "      <td>0</td>\n",
       "    </tr>\n",
       "  </tbody>\n",
       "</table>\n",
       "</div>"
      ],
      "text/plain": [
       "   customer_id      name  gender        age  annual income (lakhs)  \\\n",
       "0            1     Edith       0  29.945455              40.900000   \n",
       "1            2  Sinclair       1  53.000000              35.578846   \n",
       "2            3     Enoch       1  22.000000              35.578846   \n",
       "3            4   Lorenzo       1   9.000000              18.500000   \n",
       "4            5    Damian       1  55.000000              18.400000   \n",
       "\n",
       "   spending score  items purchased (monthly)  country  category  \\\n",
       "0              27                         62        7         1   \n",
       "1              42                         47        2         2   \n",
       "2              70                         26        2         5   \n",
       "3              68                         80       16         2   \n",
       "4              69                         89       12        12   \n",
       "\n",
       "   purchase type   \n",
       "0               0  \n",
       "1               1  \n",
       "2               0  \n",
       "3               1  \n",
       "4               0  "
      ]
     },
     "execution_count": 17,
     "metadata": {},
     "output_type": "execute_result"
    }
   ],
   "source": [
    "from sklearn.preprocessing import LabelEncoder\n",
    "data[['gender','purchase type ','category','country']] = data[['gender','purchase type ','category','country']].apply(LabelEncoder().fit_transform)\n",
    "data.head()"
   ]
  },
  {
   "cell_type": "code",
   "execution_count": 18,
   "id": "unlike-terrorism",
   "metadata": {},
   "outputs": [],
   "source": [
    "data['age'] = pd.cut(x = data['age'],labels=('child','adult','sc'), bins=(0,18,65,100), include_lowest=True)"
   ]
  },
  {
   "cell_type": "code",
   "execution_count": 19,
   "id": "julian-montgomery",
   "metadata": {},
   "outputs": [
    {
     "data": {
      "text/html": [
       "<div>\n",
       "<style scoped>\n",
       "    .dataframe tbody tr th:only-of-type {\n",
       "        vertical-align: middle;\n",
       "    }\n",
       "\n",
       "    .dataframe tbody tr th {\n",
       "        vertical-align: top;\n",
       "    }\n",
       "\n",
       "    .dataframe thead th {\n",
       "        text-align: right;\n",
       "    }\n",
       "</style>\n",
       "<table border=\"1\" class=\"dataframe\">\n",
       "  <thead>\n",
       "    <tr style=\"text-align: right;\">\n",
       "      <th></th>\n",
       "      <th>customer_id</th>\n",
       "      <th>name</th>\n",
       "      <th>gender</th>\n",
       "      <th>age</th>\n",
       "      <th>annual income (lakhs)</th>\n",
       "      <th>spending score</th>\n",
       "      <th>items purchased (monthly)</th>\n",
       "      <th>country</th>\n",
       "      <th>category</th>\n",
       "      <th>purchase type</th>\n",
       "    </tr>\n",
       "  </thead>\n",
       "  <tbody>\n",
       "    <tr>\n",
       "      <th>0</th>\n",
       "      <td>1</td>\n",
       "      <td>Edith</td>\n",
       "      <td>0</td>\n",
       "      <td>adult</td>\n",
       "      <td>40.900000</td>\n",
       "      <td>27</td>\n",
       "      <td>62</td>\n",
       "      <td>7</td>\n",
       "      <td>1</td>\n",
       "      <td>0</td>\n",
       "    </tr>\n",
       "    <tr>\n",
       "      <th>1</th>\n",
       "      <td>2</td>\n",
       "      <td>Sinclair</td>\n",
       "      <td>1</td>\n",
       "      <td>adult</td>\n",
       "      <td>35.578846</td>\n",
       "      <td>42</td>\n",
       "      <td>47</td>\n",
       "      <td>2</td>\n",
       "      <td>2</td>\n",
       "      <td>1</td>\n",
       "    </tr>\n",
       "    <tr>\n",
       "      <th>2</th>\n",
       "      <td>3</td>\n",
       "      <td>Enoch</td>\n",
       "      <td>1</td>\n",
       "      <td>adult</td>\n",
       "      <td>35.578846</td>\n",
       "      <td>70</td>\n",
       "      <td>26</td>\n",
       "      <td>2</td>\n",
       "      <td>5</td>\n",
       "      <td>0</td>\n",
       "    </tr>\n",
       "    <tr>\n",
       "      <th>3</th>\n",
       "      <td>4</td>\n",
       "      <td>Lorenzo</td>\n",
       "      <td>1</td>\n",
       "      <td>child</td>\n",
       "      <td>18.500000</td>\n",
       "      <td>68</td>\n",
       "      <td>80</td>\n",
       "      <td>16</td>\n",
       "      <td>2</td>\n",
       "      <td>1</td>\n",
       "    </tr>\n",
       "    <tr>\n",
       "      <th>4</th>\n",
       "      <td>5</td>\n",
       "      <td>Damian</td>\n",
       "      <td>1</td>\n",
       "      <td>adult</td>\n",
       "      <td>18.400000</td>\n",
       "      <td>69</td>\n",
       "      <td>89</td>\n",
       "      <td>12</td>\n",
       "      <td>12</td>\n",
       "      <td>0</td>\n",
       "    </tr>\n",
       "  </tbody>\n",
       "</table>\n",
       "</div>"
      ],
      "text/plain": [
       "   customer_id      name  gender    age  annual income (lakhs)  \\\n",
       "0            1     Edith       0  adult              40.900000   \n",
       "1            2  Sinclair       1  adult              35.578846   \n",
       "2            3     Enoch       1  adult              35.578846   \n",
       "3            4   Lorenzo       1  child              18.500000   \n",
       "4            5    Damian       1  adult              18.400000   \n",
       "\n",
       "   spending score  items purchased (monthly)  country  category  \\\n",
       "0              27                         62        7         1   \n",
       "1              42                         47        2         2   \n",
       "2              70                         26        2         5   \n",
       "3              68                         80       16         2   \n",
       "4              69                         89       12        12   \n",
       "\n",
       "   purchase type   \n",
       "0               0  \n",
       "1               1  \n",
       "2               0  \n",
       "3               1  \n",
       "4               0  "
      ]
     },
     "execution_count": 19,
     "metadata": {},
     "output_type": "execute_result"
    }
   ],
   "source": [
    "data.head()"
   ]
  },
  {
   "cell_type": "code",
   "execution_count": 20,
   "id": "inner-wallace",
   "metadata": {},
   "outputs": [
    {
     "data": {
      "text/plain": [
       "<AxesSubplot:xlabel='spending score', ylabel='Count'>"
      ]
     },
     "execution_count": 20,
     "metadata": {},
     "output_type": "execute_result"
    },
    {
     "data": {
      "image/png": "[encoded data removed]",
      "text/plain": [
       "<Figure size 432x288 with 1 Axes>"
      ]
     },
     "metadata": {
      "needs_background": "light"
     },
     "output_type": "display_data"
    }
   ],
   "source": [
    "sns.histplot(data=data, x='spending score')"
   ]
  },
  {
   "cell_type": "code",
   "execution_count": 21,
   "id": "oriental-gazette",
   "metadata": {},
   "outputs": [
    {
     "data": {
      "text/plain": [
       "<AxesSubplot:xlabel='items purchased (monthly)'>"
      ]
     },
     "execution_count": 21,
     "metadata": {},
     "output_type": "execute_result"
    },
    {
     "data": {
      "image/png": "[encoded data removed]",
      "text/plain": [
       "<Figure size 432x288 with 1 Axes>"
      ]
     },
     "metadata": {
      "needs_background": "light"
     },
     "output_type": "display_data"
    }
   ],
   "source": [
    "sns.boxplot(data=data, x='items purchased (monthly)')"
   ]
  },
  {
   "cell_type": "code",
   "execution_count": 22,
   "id": "preceding-grain",
   "metadata": {},
   "outputs": [
    {
     "data": {
      "text/plain": [
       "<AxesSubplot:xlabel='annual income (lakhs)', ylabel='items purchased (monthly)'>"
      ]
     },
     "execution_count": 22,
     "metadata": {},
     "output_type": "execute_result"
    },
    {
     "data": {
      "image/png": "[encoded data removed]",
      "text/plain": [
       "<Figure size 432x288 with 1 Axes>"
      ]
     },
     "metadata": {
      "needs_background": "light"
     },
     "output_type": "display_data"
    }
   ],
   "source": [
    "sns.scatterplot(data=data, x='annual income (lakhs)',y='items purchased (monthly)', hue='gender')"
   ]
  },
  {
   "cell_type": "code",
   "execution_count": 23,
   "id": "persistent-filename",
   "metadata": {},
   "outputs": [
    {
     "data": {
      "text/plain": [
       "<AxesSubplot:xlabel='age', ylabel='items purchased (monthly)'>"
      ]
     },
     "execution_count": 23,
     "metadata": {},
     "output_type": "execute_result"
    },
    {
     "data": {
      "image/png": "[encoded data removed]",
      "text/plain": [
       "<Figure size 432x288 with 1 Axes>"
      ]
     },
     "metadata": {
      "needs_background": "light"
     },
     "output_type": "display_data"
    }
   ],
   "source": [
    "sns.barplot(data=data, x='age', y='items purchased (monthly)')"
   ]
  },
  {
   "cell_type": "code",
   "execution_count": 24,
   "id": "under-parts",
   "metadata": {},
   "outputs": [],
   "source": [
    "from sklearn import preprocessing\n",
    "scaler = preprocessing.MinMaxScaler()\n",
    "data[['annual income (lakhs)', 'spending score']] = scaler.fit_transform(data[['annual income (lakhs)', 'spending score']])"
   ]
  },
  {
   "cell_type": "code",
   "execution_count": 25,
   "id": "greenhouse-surfing",
   "metadata": {},
   "outputs": [
    {
     "data": {
      "text/html": [
       "<div>\n",
       "<style scoped>\n",
       "    .dataframe tbody tr th:only-of-type {\n",
       "        vertical-align: middle;\n",
       "    }\n",
       "\n",
       "    .dataframe tbody tr th {\n",
       "        vertical-align: top;\n",
       "    }\n",
       "\n",
       "    .dataframe thead th {\n",
       "        text-align: right;\n",
       "    }\n",
       "</style>\n",
       "<table border=\"1\" class=\"dataframe\">\n",
       "  <thead>\n",
       "    <tr style=\"text-align: right;\">\n",
       "      <th></th>\n",
       "      <th>customer_id</th>\n",
       "      <th>name</th>\n",
       "      <th>gender</th>\n",
       "      <th>age</th>\n",
       "      <th>annual income (lakhs)</th>\n",
       "      <th>spending score</th>\n",
       "      <th>items purchased (monthly)</th>\n",
       "      <th>country</th>\n",
       "      <th>category</th>\n",
       "      <th>purchase type</th>\n",
       "    </tr>\n",
       "  </thead>\n",
       "  <tbody>\n",
       "    <tr>\n",
       "      <th>0</th>\n",
       "      <td>1</td>\n",
       "      <td>Edith</td>\n",
       "      <td>0</td>\n",
       "      <td>adult</td>\n",
       "      <td>0.608607</td>\n",
       "      <td>0.255102</td>\n",
       "      <td>62</td>\n",
       "      <td>7</td>\n",
       "      <td>1</td>\n",
       "      <td>0</td>\n",
       "    </tr>\n",
       "    <tr>\n",
       "      <th>1</th>\n",
       "      <td>2</td>\n",
       "      <td>Sinclair</td>\n",
       "      <td>1</td>\n",
       "      <td>adult</td>\n",
       "      <td>0.499567</td>\n",
       "      <td>0.408163</td>\n",
       "      <td>47</td>\n",
       "      <td>2</td>\n",
       "      <td>2</td>\n",
       "      <td>1</td>\n",
       "    </tr>\n",
       "    <tr>\n",
       "      <th>2</th>\n",
       "      <td>3</td>\n",
       "      <td>Enoch</td>\n",
       "      <td>1</td>\n",
       "      <td>adult</td>\n",
       "      <td>0.499567</td>\n",
       "      <td>0.693878</td>\n",
       "      <td>26</td>\n",
       "      <td>2</td>\n",
       "      <td>5</td>\n",
       "      <td>0</td>\n",
       "    </tr>\n",
       "    <tr>\n",
       "      <th>3</th>\n",
       "      <td>4</td>\n",
       "      <td>Lorenzo</td>\n",
       "      <td>1</td>\n",
       "      <td>child</td>\n",
       "      <td>0.149590</td>\n",
       "      <td>0.673469</td>\n",
       "      <td>80</td>\n",
       "      <td>16</td>\n",
       "      <td>2</td>\n",
       "      <td>1</td>\n",
       "    </tr>\n",
       "    <tr>\n",
       "      <th>4</th>\n",
       "      <td>5</td>\n",
       "      <td>Damian</td>\n",
       "      <td>1</td>\n",
       "      <td>adult</td>\n",
       "      <td>0.147541</td>\n",
       "      <td>0.683673</td>\n",
       "      <td>89</td>\n",
       "      <td>12</td>\n",
       "      <td>12</td>\n",
       "      <td>0</td>\n",
       "    </tr>\n",
       "  </tbody>\n",
       "</table>\n",
       "</div>"
      ],
      "text/plain": [
       "   customer_id      name  gender    age  annual income (lakhs)  \\\n",
       "0            1     Edith       0  adult               0.608607   \n",
       "1            2  Sinclair       1  adult               0.499567   \n",
       "2            3     Enoch       1  adult               0.499567   \n",
       "3            4   Lorenzo       1  child               0.149590   \n",
       "4            5    Damian       1  adult               0.147541   \n",
       "\n",
       "   spending score  items purchased (monthly)  country  category  \\\n",
       "0        0.255102                         62        7         1   \n",
       "1        0.408163                         47        2         2   \n",
       "2        0.693878                         26        2         5   \n",
       "3        0.673469                         80       16         2   \n",
       "4        0.683673                         89       12        12   \n",
       "\n",
       "   purchase type   \n",
       "0               0  \n",
       "1               1  \n",
       "2               0  \n",
       "3               1  \n",
       "4               0  "
      ]
     },
     "execution_count": 25,
     "metadata": {},
     "output_type": "execute_result"
    }
   ],
   "source": [
    "data.head()"
   ]
  },
  {
   "cell_type": "code",
   "execution_count": 26,
   "id": "funny-strip",
   "metadata": {},
   "outputs": [],
   "source": [
    "data.drop(columns=('customer_id'),axis=1,inplace=True)"
   ]
  },
  {
   "cell_type": "code",
   "execution_count": 27,
   "id": "accredited-logan",
   "metadata": {},
   "outputs": [
    {
     "data": {
      "text/html": [
       "<div>\n",
       "<style scoped>\n",
       "    .dataframe tbody tr th:only-of-type {\n",
       "        vertical-align: middle;\n",
       "    }\n",
       "\n",
       "    .dataframe tbody tr th {\n",
       "        vertical-align: top;\n",
       "    }\n",
       "\n",
       "    .dataframe thead th {\n",
       "        text-align: right;\n",
       "    }\n",
       "</style>\n",
       "<table border=\"1\" class=\"dataframe\">\n",
       "  <thead>\n",
       "    <tr style=\"text-align: right;\">\n",
       "      <th></th>\n",
       "      <th>name</th>\n",
       "      <th>gender</th>\n",
       "      <th>age</th>\n",
       "      <th>annual income (lakhs)</th>\n",
       "      <th>spending score</th>\n",
       "      <th>items purchased (monthly)</th>\n",
       "      <th>country</th>\n",
       "      <th>category</th>\n",
       "      <th>purchase type</th>\n",
       "    </tr>\n",
       "  </thead>\n",
       "  <tbody>\n",
       "    <tr>\n",
       "      <th>0</th>\n",
       "      <td>Edith</td>\n",
       "      <td>0</td>\n",
       "      <td>adult</td>\n",
       "      <td>0.608607</td>\n",
       "      <td>0.255102</td>\n",
       "      <td>62</td>\n",
       "      <td>7</td>\n",
       "      <td>1</td>\n",
       "      <td>0</td>\n",
       "    </tr>\n",
       "    <tr>\n",
       "      <th>1</th>\n",
       "      <td>Sinclair</td>\n",
       "      <td>1</td>\n",
       "      <td>adult</td>\n",
       "      <td>0.499567</td>\n",
       "      <td>0.408163</td>\n",
       "      <td>47</td>\n",
       "      <td>2</td>\n",
       "      <td>2</td>\n",
       "      <td>1</td>\n",
       "    </tr>\n",
       "    <tr>\n",
       "      <th>2</th>\n",
       "      <td>Enoch</td>\n",
       "      <td>1</td>\n",
       "      <td>adult</td>\n",
       "      <td>0.499567</td>\n",
       "      <td>0.693878</td>\n",
       "      <td>26</td>\n",
       "      <td>2</td>\n",
       "      <td>5</td>\n",
       "      <td>0</td>\n",
       "    </tr>\n",
       "    <tr>\n",
       "      <th>3</th>\n",
       "      <td>Lorenzo</td>\n",
       "      <td>1</td>\n",
       "      <td>child</td>\n",
       "      <td>0.149590</td>\n",
       "      <td>0.673469</td>\n",
       "      <td>80</td>\n",
       "      <td>16</td>\n",
       "      <td>2</td>\n",
       "      <td>1</td>\n",
       "    </tr>\n",
       "    <tr>\n",
       "      <th>4</th>\n",
       "      <td>Damian</td>\n",
       "      <td>1</td>\n",
       "      <td>adult</td>\n",
       "      <td>0.147541</td>\n",
       "      <td>0.683673</td>\n",
       "      <td>89</td>\n",
       "      <td>12</td>\n",
       "      <td>12</td>\n",
       "      <td>0</td>\n",
       "    </tr>\n",
       "  </tbody>\n",
       "</table>\n",
       "</div>"
      ],
      "text/plain": [
       "       name  gender    age  annual income (lakhs)  spending score  \\\n",
       "0     Edith       0  adult               0.608607        0.255102   \n",
       "1  Sinclair       1  adult               0.499567        0.408163   \n",
       "2     Enoch       1  adult               0.499567        0.693878   \n",
       "3   Lorenzo       1  child               0.149590        0.673469   \n",
       "4    Damian       1  adult               0.147541        0.683673   \n",
       "\n",
       "   items purchased (monthly)  country  category  purchase type   \n",
       "0                         62        7         1               0  \n",
       "1                         47        2         2               1  \n",
       "2                         26        2         5               0  \n",
       "3                         80       16         2               1  \n",
       "4                         89       12        12               0  "
      ]
     },
     "execution_count": 27,
     "metadata": {},
     "output_type": "execute_result"
    }
   ],
   "source": [
    "data.head()"
   ]
  },
  {
   "cell_type": "code",
   "execution_count": 28,
   "id": "lined-parallel",
   "metadata": {},
   "outputs": [],
   "source": [
    "transaction_data = pd.read_csv('association_analysis.csv')"
   ]
  },
  {
   "cell_type": "code",
   "execution_count": 29,
   "id": "active-motorcycle",
   "metadata": {},
   "outputs": [],
   "source": [
    "transaction_data.drop(columns=['tid'],axis=1,inplace=True)"
   ]
  },
  {
   "cell_type": "code",
   "execution_count": 30,
   "id": "dressed-shakespeare",
   "metadata": {},
   "outputs": [
    {
     "data": {
      "text/html": [
       "<div>\n",
       "<style scoped>\n",
       "    .dataframe tbody tr th:only-of-type {\n",
       "        vertical-align: middle;\n",
       "    }\n",
       "\n",
       "    .dataframe tbody tr th {\n",
       "        vertical-align: top;\n",
       "    }\n",
       "\n",
       "    .dataframe thead th {\n",
       "        text-align: right;\n",
       "    }\n",
       "</style>\n",
       "<table border=\"1\" class=\"dataframe\">\n",
       "  <thead>\n",
       "    <tr style=\"text-align: right;\">\n",
       "      <th></th>\n",
       "      <th>onion</th>\n",
       "      <th>tomato</th>\n",
       "      <th>potato</th>\n",
       "      <th>bottleguard</th>\n",
       "      <th>beans</th>\n",
       "    </tr>\n",
       "  </thead>\n",
       "  <tbody>\n",
       "    <tr>\n",
       "      <th>0</th>\n",
       "      <td>1</td>\n",
       "      <td>0</td>\n",
       "      <td>1</td>\n",
       "      <td>0</td>\n",
       "      <td>0</td>\n",
       "    </tr>\n",
       "    <tr>\n",
       "      <th>1</th>\n",
       "      <td>1</td>\n",
       "      <td>0</td>\n",
       "      <td>0</td>\n",
       "      <td>1</td>\n",
       "      <td>1</td>\n",
       "    </tr>\n",
       "    <tr>\n",
       "      <th>2</th>\n",
       "      <td>0</td>\n",
       "      <td>0</td>\n",
       "      <td>1</td>\n",
       "      <td>0</td>\n",
       "      <td>0</td>\n",
       "    </tr>\n",
       "    <tr>\n",
       "      <th>3</th>\n",
       "      <td>0</td>\n",
       "      <td>1</td>\n",
       "      <td>1</td>\n",
       "      <td>1</td>\n",
       "      <td>1</td>\n",
       "    </tr>\n",
       "    <tr>\n",
       "      <th>4</th>\n",
       "      <td>1</td>\n",
       "      <td>1</td>\n",
       "      <td>1</td>\n",
       "      <td>0</td>\n",
       "      <td>0</td>\n",
       "    </tr>\n",
       "  </tbody>\n",
       "</table>\n",
       "</div>"
      ],
      "text/plain": [
       "   onion  tomato  potato  bottleguard  beans\n",
       "0      1       0       1            0      0\n",
       "1      1       0       0            1      1\n",
       "2      0       0       1            0      0\n",
       "3      0       1       1            1      1\n",
       "4      1       1       1            0      0"
      ]
     },
     "execution_count": 30,
     "metadata": {},
     "output_type": "execute_result"
    }
   ],
   "source": [
    "transaction_data.head()"
   ]
  },
  {
   "cell_type": "code",
   "execution_count": 31,
   "id": "fantastic-bidder",
   "metadata": {},
   "outputs": [],
   "source": [
    "records = []\n",
    "for i in range(len(transaction_data)):\n",
    "    record = []\n",
    "    for j in range(len(transaction_data.columns)):\n",
    "        if transaction_data.values[i,j]:\n",
    "            record.append(transaction_data.columns[j])\n",
    "    records.append(record)"
   ]
  },
  {
   "cell_type": "code",
   "execution_count": 32,
   "id": "reflected-confirmation",
   "metadata": {},
   "outputs": [
    {
     "data": {
      "text/plain": [
       "[['onion', 'potato'],\n",
       " ['onion', 'bottleguard', 'beans'],\n",
       " ['potato'],\n",
       " ['tomato', 'potato', 'bottleguard', 'beans'],\n",
       " ['onion', 'tomato', 'potato'],\n",
       " ['tomato', 'bottleguard', 'beans'],\n",
       " ['tomato'],\n",
       " ['onion', 'potato'],\n",
       " ['tomato', 'potato', 'beans'],\n",
       " ['tomato'],\n",
       " ['onion', 'tomato'],\n",
       " ['onion', 'tomato'],\n",
       " ['onion', 'beans'],\n",
       " ['tomato', 'bottleguard', 'beans'],\n",
       " ['onion', 'potato', 'bottleguard'],\n",
       " ['tomato', 'bottleguard', 'beans'],\n",
       " ['bottleguard'],\n",
       " ['tomato', 'bottleguard', 'beans'],\n",
       " ['onion', 'beans'],\n",
       " ['onion', 'tomato', 'beans'],\n",
       " ['onion', 'tomato', 'potato', 'bottleguard'],\n",
       " ['onion', 'tomato', 'potato', 'beans'],\n",
       " ['potato', 'bottleguard'],\n",
       " ['onion'],\n",
       " ['onion', 'tomato', 'potato', 'bottleguard', 'beans'],\n",
       " ['onion', 'tomato'],\n",
       " ['tomato', 'potato', 'bottleguard', 'beans'],\n",
       " ['onion', 'bottleguard'],\n",
       " ['onion', 'potato', 'bottleguard', 'beans'],\n",
       " ['tomato', 'beans'],\n",
       " ['onion', 'tomato', 'potato', 'bottleguard', 'beans'],\n",
       " ['potato'],\n",
       " ['tomato', 'potato'],\n",
       " ['potato', 'beans'],\n",
       " ['potato', 'bottleguard'],\n",
       " ['onion', 'tomato', 'potato'],\n",
       " ['onion', 'tomato', 'potato', 'bottleguard'],\n",
       " ['beans'],\n",
       " ['onion', 'potato', 'beans'],\n",
       " ['onion', 'bottleguard', 'beans'],\n",
       " ['onion', 'tomato', 'beans'],\n",
       " ['tomato', 'potato'],\n",
       " ['potato'],\n",
       " ['beans'],\n",
       " ['bottleguard'],\n",
       " ['tomato', 'bottleguard', 'beans'],\n",
       " ['onion', 'tomato', 'potato', 'beans'],\n",
       " ['bottleguard'],\n",
       " ['tomato', 'potato', 'bottleguard'],\n",
       " ['onion', 'tomato', 'bottleguard'],\n",
       " ['onion', 'tomato', 'potato', 'bottleguard', 'beans']]"
      ]
     },
     "execution_count": 32,
     "metadata": {},
     "output_type": "execute_result"
    }
   ],
   "source": [
    "records"
   ]
  },
  {
   "cell_type": "code",
   "execution_count": 33,
   "id": "aging-jungle",
   "metadata": {},
   "outputs": [
    {
     "name": "stdout",
     "output_type": "stream",
     "text": [
      "Requirement already satisfied: apyori in c:\\users\\nimish bongale\\appdata\\local\\programs\\python\\python39\\lib\\site-packages (1.1.2)\n"
     ]
    },
    {
     "name": "stderr",
     "output_type": "stream",
     "text": [
      "WARNING: You are using pip version 20.2.3; however, version 20.3.3 is available.\n",
      "You should consider upgrading via the 'c:\\users\\nimish bongale\\appdata\\local\\programs\\python\\python39\\python.exe -m pip install --upgrade pip' command.\n"
     ]
    }
   ],
   "source": [
    "!pip install apyori"
   ]
  },
  {
   "cell_type": "code",
   "execution_count": 34,
   "id": "legitimate-rubber",
   "metadata": {},
   "outputs": [],
   "source": [
    "from apyori import apriori\n",
    "rules = apriori(records, min_support = 0.03, min_confidence = 0.7)"
   ]
  },
  {
   "cell_type": "code",
   "execution_count": 35,
   "id": "initial-native",
   "metadata": {},
   "outputs": [],
   "source": [
    "rules = list(rules)"
   ]
  },
  {
   "cell_type": "code",
   "execution_count": 36,
   "id": "primary-syndicate",
   "metadata": {},
   "outputs": [
    {
     "name": "stdout",
     "output_type": "stream",
     "text": [
      "Rule :  frozenset({'beans', 'bottleguard', 'tomato'}) Support : 0.19607843137254902 Confidence :  0.7692307692307693\n",
      "Rule :  frozenset({'beans', 'potato', 'tomato'}) Support : 0.1568627450980392 Confidence :  0.7272727272727272\n",
      "Rule :  frozenset({'beans', 'potato', 'bottleguard', 'tomato'}) Support : 0.09803921568627451 Confidence :  0.8333333333333334\n",
      "Rule :  frozenset({'beans', 'potato', 'tomato', 'onion'}) Support : 0.09803921568627451 Confidence :  0.7142857142857142\n",
      "Rule :  frozenset({'tomato', 'potato', 'bottleguard', 'onion'}) Support : 0.09803921568627451 Confidence :  0.7142857142857142\n",
      "Rule :  frozenset({'potato', 'beans', 'bottleguard', 'tomato', 'onion'}) Support : 0.058823529411764705 Confidence :  0.75\n"
     ]
    }
   ],
   "source": [
    "for rule in rules:\n",
    "    print(\"Rule : \", rule[0], \"Support :\", rule[1], \"Confidence : \", rule[2][0][2])"
   ]
  },
  {
   "cell_type": "code",
   "execution_count": 37,
   "id": "useful-state",
   "metadata": {},
   "outputs": [
    {
     "name": "stdout",
     "output_type": "stream",
     "text": [
      "Requirement already satisfied: pyfpgrowth in c:\\users\\nimish bongale\\appdata\\local\\programs\\python\\python39\\lib\\site-packages (1.0)\n"
     ]
    },
    {
     "name": "stderr",
     "output_type": "stream",
     "text": [
      "WARNING: You are using pip version 20.2.3; however, version 20.3.3 is available.\n",
      "You should consider upgrading via the 'c:\\users\\nimish bongale\\appdata\\local\\programs\\python\\python39\\python.exe -m pip install --upgrade pip' command.\n"
     ]
    }
   ],
   "source": [
    "!pip install pyfpgrowth"
   ]
  },
  {
   "cell_type": "code",
   "execution_count": 38,
   "id": "suspected-silver",
   "metadata": {},
   "outputs": [],
   "source": [
    "import pyfpgrowth\n",
    "itemsets = pyfpgrowth.find_frequent_patterns(records, 0.03)"
   ]
  },
  {
   "cell_type": "code",
   "execution_count": 39,
   "id": "modular-wisconsin",
   "metadata": {},
   "outputs": [
    {
     "data": {
      "text/plain": [
       "{('beans', 'bottleguard', 'onion'): 6,\n",
       " ('beans', 'bottleguard', 'onion', 'potato'): 4,\n",
       " ('bottleguard', 'onion', 'tomato'): 6,\n",
       " ('bottleguard', 'onion', 'potato', 'tomato'): 5,\n",
       " ('beans', 'bottleguard', 'onion', 'tomato'): 3,\n",
       " ('beans', 'bottleguard', 'onion', 'potato', 'tomato'): 3,\n",
       " ('bottleguard', 'onion', 'potato'): 7,\n",
       " ('beans', 'bottleguard', 'potato'): 6,\n",
       " ('beans', 'bottleguard', 'potato', 'tomato'): 5,\n",
       " ('bottleguard', 'potato', 'tomato'): 8,\n",
       " ('beans', 'bottleguard'): 13,\n",
       " ('beans', 'bottleguard', 'tomato'): 10,\n",
       " ('bottleguard', 'tomato'): 14,\n",
       " ('beans', 'onion', 'potato'): 7,\n",
       " ('beans', 'onion', 'potato', 'tomato'): 5,\n",
       " ('beans', 'potato', 'tomato'): 8,\n",
       " ('beans', 'onion'): 13,\n",
       " ('beans', 'onion', 'tomato'): 7,\n",
       " ('beans', 'tomato'): 16,\n",
       " ('onion',): 26,\n",
       " ('onion', 'tomato'): 15,\n",
       " ('onion', 'potato'): 14,\n",
       " ('onion', 'potato', 'tomato'): 9,\n",
       " ('potato', 'tomato'): 15,\n",
       " ('tomato',): 29}"
      ]
     },
     "execution_count": 39,
     "metadata": {},
     "output_type": "execute_result"
    }
   ],
   "source": [
    "itemsets"
   ]
  },
  {
   "cell_type": "code",
   "execution_count": 40,
   "id": "geographic-jones",
   "metadata": {},
   "outputs": [
    {
     "data": {
      "text/plain": [
       "{('bottleguard', 'onion', 'potato'): (('tomato',), 0.7142857142857143),\n",
       " ('bottleguard', 'onion', 'tomato'): (('potato',), 0.8333333333333334),\n",
       " ('beans', 'bottleguard', 'onion', 'potato'): (('tomato',), 0.75),\n",
       " ('beans', 'bottleguard', 'onion', 'tomato'): (('potato',), 1.0),\n",
       " ('beans', 'bottleguard', 'potato'): (('tomato',), 0.8333333333333334),\n",
       " ('beans', 'bottleguard'): (('tomato',), 0.7692307692307693),\n",
       " ('bottleguard', 'tomato'): (('beans',), 0.7142857142857143),\n",
       " ('beans', 'onion', 'potato'): (('tomato',), 0.7142857142857143),\n",
       " ('beans', 'onion', 'tomato'): (('potato',), 0.7142857142857143)}"
      ]
     },
     "execution_count": 40,
     "metadata": {},
     "output_type": "execute_result"
    }
   ],
   "source": [
    "pyfpgrowth.generate_association_rules(itemsets, 0.7)"
   ]
  },
  {
   "cell_type": "code",
   "execution_count": 41,
   "id": "atlantic-trade",
   "metadata": {},
   "outputs": [],
   "source": [
    "from sklearn.model_selection import train_test_split\n",
    "features = data[['gender','annual income (lakhs)']]\n",
    "target = data['purchase type ']\n",
    "x_train, x_test, y_train, y_test = train_test_split(features, target, random_state=0, test_size = 0.3)"
   ]
  },
  {
   "cell_type": "code",
   "execution_count": 42,
   "id": "atmospheric-lingerie",
   "metadata": {},
   "outputs": [
    {
     "data": {
      "text/plain": [
       "0.5"
      ]
     },
     "execution_count": 42,
     "metadata": {},
     "output_type": "execute_result"
    }
   ],
   "source": [
    "from sklearn.tree import DecisionTreeClassifier\n",
    "\n",
    "model =  DecisionTreeClassifier()\n",
    "model.fit(x_train, y_train)\n",
    "pred = model.predict(x_test)\n",
    "model.score(x_test, y_test)"
   ]
  },
  {
   "cell_type": "code",
   "execution_count": 43,
   "id": "flush-zambia",
   "metadata": {},
   "outputs": [
    {
     "data": {
      "text/plain": [
       "array([[2, 7],\n",
       "       [2, 7]], dtype=int64)"
      ]
     },
     "execution_count": 43,
     "metadata": {},
     "output_type": "execute_result"
    }
   ],
   "source": [
    "from sklearn import metrics\n",
    "metrics.confusion_matrix(y_test, pred)"
   ]
  },
  {
   "cell_type": "code",
   "execution_count": 44,
   "id": "ideal-language",
   "metadata": {},
   "outputs": [
    {
     "data": {
      "text/plain": [
       "'              precision    recall  f1-score   support\\n\\n           0       0.50      0.22      0.31         9\\n           1       0.50      0.78      0.61         9\\n\\n    accuracy                           0.50        18\\n   macro avg       0.50      0.50      0.46        18\\nweighted avg       0.50      0.50      0.46        18\\n'"
      ]
     },
     "execution_count": 44,
     "metadata": {},
     "output_type": "execute_result"
    }
   ],
   "source": [
    "metrics.classification_report(y_test, pred)"
   ]
  },
  {
   "cell_type": "code",
   "execution_count": 45,
   "id": "welsh-cleveland",
   "metadata": {},
   "outputs": [],
   "source": [
    "roc = metrics.roc_curve(y_test,pred)"
   ]
  },
  {
   "cell_type": "code",
   "execution_count": 46,
   "id": "designing-doctrine",
   "metadata": {},
   "outputs": [
    {
     "data": {
      "text/plain": [
       "<AxesSubplot:>"
      ]
     },
     "execution_count": 46,
     "metadata": {},
     "output_type": "execute_result"
    },
    {
     "data": {
      "image/png": "[encoded data removed]",
      "text/plain": [
       "<Figure size 432x288 with 1 Axes>"
      ]
     },
     "metadata": {
      "needs_background": "light"
     },
     "output_type": "display_data"
    }
   ],
   "source": [
    "sns.lineplot(x=roc[0],y=roc[1])"
   ]
  },
  {
   "cell_type": "code",
   "execution_count": 47,
   "id": "apparent-orange",
   "metadata": {},
   "outputs": [],
   "source": [
    "from sklearn.ensemble import BaggingClassifier\n",
    "bag = BaggingClassifier()\n",
    "bag.fit(x_train,y_train)\n",
    "pred = bag.predict(x_test)"
   ]
  },
  {
   "cell_type": "code",
   "execution_count": 48,
   "id": "departmental-trinity",
   "metadata": {},
   "outputs": [
    {
     "data": {
      "text/plain": [
       "array([[3, 6],\n",
       "       [2, 7]], dtype=int64)"
      ]
     },
     "execution_count": 48,
     "metadata": {},
     "output_type": "execute_result"
    }
   ],
   "source": [
    "metrics.confusion_matrix(y_test,pred)"
   ]
  },
  {
   "cell_type": "code",
   "execution_count": 49,
   "id": "medieval-football",
   "metadata": {},
   "outputs": [
    {
     "data": {
      "text/plain": [
       "'              precision    recall  f1-score   support\\n\\n           0       0.60      0.33      0.43         9\\n           1       0.54      0.78      0.64         9\\n\\n    accuracy                           0.56        18\\n   macro avg       0.57      0.56      0.53        18\\nweighted avg       0.57      0.56      0.53        18\\n'"
      ]
     },
     "execution_count": 49,
     "metadata": {},
     "output_type": "execute_result"
    }
   ],
   "source": [
    "metrics.classification_report(y_test,pred)"
   ]
  },
  {
   "cell_type": "code",
   "execution_count": 50,
   "id": "harmful-plastic",
   "metadata": {},
   "outputs": [
    {
     "data": {
      "text/plain": [
       "<AxesSubplot:>"
      ]
     },
     "execution_count": 50,
     "metadata": {},
     "output_type": "execute_result"
    },
    {
     "data": {
      "image/png": "[encoded data removed]",
      "text/plain": [
       "<Figure size 432x288 with 1 Axes>"
      ]
     },
     "metadata": {
      "needs_background": "light"
     },
     "output_type": "display_data"
    }
   ],
   "source": [
    "roc = metrics.roc_curve(y_test,pred)\n",
    "sns.lineplot(x=roc[0], y=roc[1])"
   ]
  },
  {
   "cell_type": "code",
   "execution_count": 51,
   "id": "rapid-citizenship",
   "metadata": {},
   "outputs": [],
   "source": [
    "from sklearn.ensemble import AdaBoostClassifier\n",
    "\n",
    "boost = AdaBoostClassifier()\n",
    "boost.fit(x_train, y_train)\n",
    "pred = boost.predict(x_test)"
   ]
  },
  {
   "cell_type": "code",
   "execution_count": 52,
   "id": "recreational-level",
   "metadata": {},
   "outputs": [
    {
     "data": {
      "text/plain": [
       "array([[2, 2],\n",
       "       [7, 7]], dtype=int64)"
      ]
     },
     "execution_count": 52,
     "metadata": {},
     "output_type": "execute_result"
    }
   ],
   "source": [
    "metrics.confusion_matrix(pred,y_test)"
   ]
  },
  {
   "cell_type": "code",
   "execution_count": 53,
   "id": "billion-nevada",
   "metadata": {},
   "outputs": [
    {
     "data": {
      "text/plain": [
       "'              precision    recall  f1-score   support\\n\\n           0       0.22      0.50      0.31         4\\n           1       0.78      0.50      0.61        14\\n\\n    accuracy                           0.50        18\\n   macro avg       0.50      0.50      0.46        18\\nweighted avg       0.65      0.50      0.54        18\\n'"
      ]
     },
     "execution_count": 53,
     "metadata": {},
     "output_type": "execute_result"
    }
   ],
   "source": [
    "metrics.classification_report(pred,y_test)"
   ]
  },
  {
   "cell_type": "code",
   "execution_count": 54,
   "id": "bibliographic-cholesterol",
   "metadata": {},
   "outputs": [
    {
     "data": {
      "text/plain": [
       "<AxesSubplot:>"
      ]
     },
     "execution_count": 54,
     "metadata": {},
     "output_type": "execute_result"
    },
    {
     "data": {
      "image/png": "[encoded data removed]",
      "text/plain": [
       "<Figure size 432x288 with 1 Axes>"
      ]
     },
     "metadata": {
      "needs_background": "light"
     },
     "output_type": "display_data"
    }
   ],
   "source": [
    "roc = metrics.roc_curve(pred,y_test)\n",
    "sns.lineplot(x=roc[0],y=roc[1])"
   ]
  },
  {
   "cell_type": "code",
   "execution_count": 55,
   "id": "forty-improvement",
   "metadata": {},
   "outputs": [],
   "source": [
    "from sklearn.cluster import KMeans\n",
    "\n",
    "kmeans = KMeans(n_clusters=2, random_state=0)\n",
    "kmeans.fit(x_train, y_train)\n",
    "pred = kmeans.predict(x_test)"
   ]
  },
  {
   "cell_type": "code",
   "execution_count": 56,
   "id": "alike-suggestion",
   "metadata": {},
   "outputs": [
    {
     "data": {
      "text/plain": [
       "array([[7, 6],\n",
       "       [2, 3]], dtype=int64)"
      ]
     },
     "execution_count": 56,
     "metadata": {},
     "output_type": "execute_result"
    }
   ],
   "source": [
    "metrics.confusion_matrix(pred,y_test)"
   ]
  },
  {
   "cell_type": "code",
   "execution_count": 57,
   "id": "based-junior",
   "metadata": {},
   "outputs": [
    {
     "data": {
      "text/plain": [
       "'              precision    recall  f1-score   support\\n\\n           0       0.78      0.54      0.64        13\\n           1       0.33      0.60      0.43         5\\n\\n    accuracy                           0.56        18\\n   macro avg       0.56      0.57      0.53        18\\nweighted avg       0.65      0.56      0.58        18\\n'"
      ]
     },
     "execution_count": 57,
     "metadata": {},
     "output_type": "execute_result"
    }
   ],
   "source": [
    "metrics.classification_report(pred,y_test)"
   ]
  },
  {
   "cell_type": "code",
   "execution_count": 58,
   "id": "silent-listing",
   "metadata": {},
   "outputs": [
    {
     "data": {
      "text/plain": [
       "<AxesSubplot:>"
      ]
     },
     "execution_count": 58,
     "metadata": {},
     "output_type": "execute_result"
    },
    {
     "data": {
      "image/png": "[encoded data removed]",
      "text/plain": [
       "<Figure size 432x288 with 1 Axes>"
      ]
     },
     "metadata": {
      "needs_background": "light"
     },
     "output_type": "display_data"
    }
   ],
   "source": [
    "roc = metrics.roc_curve(y_test,pred)\n",
    "sns.lineplot(x=roc[0],y=roc[1])"
   ]
  },
  {
   "cell_type": "code",
   "execution_count": 59,
   "id": "authorized-baghdad",
   "metadata": {},
   "outputs": [],
   "source": [
    "from sklearn.cluster import DBSCAN, AgglomerativeClustering\n",
    "from sklearn.decomposition import PCA\n",
    "from sklearn.preprocessing import LabelEncoder, StandardScaler, normalize\n",
    "import pandas as pd\n",
    "import matplotlib.pyplot as plt\n",
    "import scipy.cluster.hierarchy as shc\n",
    "import numpy as np\n"
   ]
  },
  {
   "cell_type": "code",
   "execution_count": 60,
   "id": "qualified-communications",
   "metadata": {},
   "outputs": [],
   "source": [
    "df = pd.read_csv('CustomerData.csv')"
   ]
  },
  {
   "cell_type": "code",
   "execution_count": 61,
   "id": "twenty-association",
   "metadata": {},
   "outputs": [],
   "source": [
    "df.fillna(df.mean(),inplace=True)"
   ]
  },
  {
   "cell_type": "code",
   "execution_count": 62,
   "id": "controlling-eleven",
   "metadata": {},
   "outputs": [
    {
     "data": {
      "text/plain": [
       "customer_id                  0\n",
       "name                         0\n",
       "gender                       0\n",
       "age                          0\n",
       "annual income (lakhs)        0\n",
       "spending score               0\n",
       "items purchased (monthly)    0\n",
       "country                      0\n",
       "category                     0\n",
       "purchase type                0\n",
       "dtype: int64"
      ]
     },
     "execution_count": 62,
     "metadata": {},
     "output_type": "execute_result"
    }
   ],
   "source": [
    "df[\"gender\"].fillna(df[\"gender\"].mode()[0],inplace=True)\n",
    "df[\"category\"].fillna(df[\"category\"].mode()[0],inplace=True)\n",
    "df.isnull().sum()"
   ]
  },
  {
   "cell_type": "code",
   "execution_count": 63,
   "id": "complex-headline",
   "metadata": {},
   "outputs": [
    {
     "data": {
      "text/html": [
       "<div>\n",
       "<style scoped>\n",
       "    .dataframe tbody tr th:only-of-type {\n",
       "        vertical-align: middle;\n",
       "    }\n",
       "\n",
       "    .dataframe tbody tr th {\n",
       "        vertical-align: top;\n",
       "    }\n",
       "\n",
       "    .dataframe thead th {\n",
       "        text-align: right;\n",
       "    }\n",
       "</style>\n",
       "<table border=\"1\" class=\"dataframe\">\n",
       "  <thead>\n",
       "    <tr style=\"text-align: right;\">\n",
       "      <th></th>\n",
       "      <th>customer_id</th>\n",
       "      <th>name</th>\n",
       "      <th>gender</th>\n",
       "      <th>age</th>\n",
       "      <th>annual income (lakhs)</th>\n",
       "      <th>spending score</th>\n",
       "      <th>items purchased (monthly)</th>\n",
       "      <th>country</th>\n",
       "      <th>category</th>\n",
       "      <th>purchase type</th>\n",
       "    </tr>\n",
       "  </thead>\n",
       "  <tbody>\n",
       "    <tr>\n",
       "      <th>0</th>\n",
       "      <td>1</td>\n",
       "      <td>Edith</td>\n",
       "      <td>0</td>\n",
       "      <td>29.945455</td>\n",
       "      <td>40.900000</td>\n",
       "      <td>27</td>\n",
       "      <td>62</td>\n",
       "      <td>Iran</td>\n",
       "      <td>1</td>\n",
       "      <td>0</td>\n",
       "    </tr>\n",
       "    <tr>\n",
       "      <th>1</th>\n",
       "      <td>2</td>\n",
       "      <td>Sinclair</td>\n",
       "      <td>1</td>\n",
       "      <td>53.000000</td>\n",
       "      <td>35.578846</td>\n",
       "      <td>42</td>\n",
       "      <td>47</td>\n",
       "      <td>China</td>\n",
       "      <td>2</td>\n",
       "      <td>1</td>\n",
       "    </tr>\n",
       "    <tr>\n",
       "      <th>2</th>\n",
       "      <td>3</td>\n",
       "      <td>Enoch</td>\n",
       "      <td>1</td>\n",
       "      <td>22.000000</td>\n",
       "      <td>35.578846</td>\n",
       "      <td>70</td>\n",
       "      <td>26</td>\n",
       "      <td>China</td>\n",
       "      <td>5</td>\n",
       "      <td>0</td>\n",
       "    </tr>\n",
       "    <tr>\n",
       "      <th>3</th>\n",
       "      <td>4</td>\n",
       "      <td>Lorenzo</td>\n",
       "      <td>1</td>\n",
       "      <td>9.000000</td>\n",
       "      <td>18.500000</td>\n",
       "      <td>68</td>\n",
       "      <td>80</td>\n",
       "      <td>Russia</td>\n",
       "      <td>2</td>\n",
       "      <td>1</td>\n",
       "    </tr>\n",
       "    <tr>\n",
       "      <th>4</th>\n",
       "      <td>5</td>\n",
       "      <td>Damian</td>\n",
       "      <td>1</td>\n",
       "      <td>55.000000</td>\n",
       "      <td>18.400000</td>\n",
       "      <td>69</td>\n",
       "      <td>89</td>\n",
       "      <td>Philippines</td>\n",
       "      <td>12</td>\n",
       "      <td>0</td>\n",
       "    </tr>\n",
       "  </tbody>\n",
       "</table>\n",
       "</div>"
      ],
      "text/plain": [
       "   customer_id      name  gender        age  annual income (lakhs)  \\\n",
       "0            1     Edith       0  29.945455              40.900000   \n",
       "1            2  Sinclair       1  53.000000              35.578846   \n",
       "2            3     Enoch       1  22.000000              35.578846   \n",
       "3            4   Lorenzo       1   9.000000              18.500000   \n",
       "4            5    Damian       1  55.000000              18.400000   \n",
       "\n",
       "   spending score  items purchased (monthly)      country  category  \\\n",
       "0              27                         62         Iran         1   \n",
       "1              42                         47        China         2   \n",
       "2              70                         26        China         5   \n",
       "3              68                         80       Russia         2   \n",
       "4              69                         89  Philippines        12   \n",
       "\n",
       "   purchase type   \n",
       "0               0  \n",
       "1               1  \n",
       "2               0  \n",
       "3               1  \n",
       "4               0  "
      ]
     },
     "execution_count": 63,
     "metadata": {},
     "output_type": "execute_result"
    }
   ],
   "source": [
    "df[['gender','purchase type ','category']] = df[['gender','purchase type ','category']].apply(LabelEncoder().fit_transform)\n",
    "df.head()"
   ]
  },
  {
   "cell_type": "code",
   "execution_count": 64,
   "id": "first-verification",
   "metadata": {},
   "outputs": [],
   "source": [
    "from sklearn.cluster import AgglomerativeClustering\n",
    "\n",
    "agg =  AgglomerativeClustering(n_clusters=5)\n",
    "clust = agg.fit_predict(data[['gender','category','purchase type ','spending score','items purchased (monthly)','annual income (lakhs)']])"
   ]
  },
  {
   "cell_type": "code",
   "execution_count": 65,
   "id": "shaped-sacramento",
   "metadata": {},
   "outputs": [
    {
     "data": {
      "text/plain": [
       "<mpl_toolkits.mplot3d.art3d.Path3DCollection at 0x14cd5f10790>"
      ]
     },
     "execution_count": 65,
     "metadata": {},
     "output_type": "execute_result"
    },
    {
     "data": {
      "image/png": "[encoded data removed]",
      "text/plain": [
       "<Figure size 432x288 with 1 Axes>"
      ]
     },
     "metadata": {
      "needs_background": "light"
     },
     "output_type": "display_data"
    }
   ],
   "source": [
    "ax = plt.axes(projection='3d')\n",
    "ax.scatter3D(data['spending score'], data['purchase type '], data['annual income (lakhs)'],c=clust,cmap='viridis')"
   ]
  },
  {
   "cell_type": "code",
   "execution_count": 67,
   "id": "finished-greece",
   "metadata": {},
   "outputs": [
    {
     "data": {
      "text/plain": [
       "<mpl_toolkits.mplot3d.art3d.Path3DCollection at 0x14cd6002730>"
      ]
     },
     "execution_count": 67,
     "metadata": {},
     "output_type": "execute_result"
    },
    {
     "data": {
      "image/png": "[encoded data removed]",
      "text/plain": [
       "<Figure size 432x288 with 1 Axes>"
      ]
     },
     "metadata": {
      "needs_background": "light"
     },
     "output_type": "display_data"
    }
   ],
   "source": [
    "dbscan = DBSCAN(eps=0.1, min_samples=3)\n",
    "dbs = dbscan.fit_predict(data[['gender','category','purchase type ','spending score','items purchased (monthly)','annual income (lakhs)']])\n",
    "ax = plt.axes(projection='3d')\n",
    "ax.scatter3D(data['spending score'], data['purchase type '], data['annual income (lakhs)'],c=dbs,cmap='viridis')"
   ]
  }
 ],
 "metadata": {
  "kernelspec": {
   "display_name": "Python 3",
   "language": "python",
   "name": "python3"
  },
  "language_info": {
   "codemirror_mode": {
    "name": "ipython",
    "version": 3
   },
   "file_extension": ".py",
   "mimetype": "text/x-python",
   "name": "python",
   "nbconvert_exporter": "python",
   "pygments_lexer": "ipython3",
   "version": "3.9.0"
  }
 },
 "nbformat": 4,
 "nbformat_minor": 5
}
